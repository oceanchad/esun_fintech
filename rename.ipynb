{
 "cells": [
  {
   "cell_type": "markdown",
   "id": "274eda70",
   "metadata": {},
   "source": [
    "```\n",
    "./\n",
    "├── rename.txt\n",
    "├── rename.ipynb\n",
    "├── train\n",
    "...\n",
    "```"
   ]
  },
  {
   "cell_type": "markdown",
   "id": "19fcb104",
   "metadata": {},
   "source": [
    "```\n",
    "rename.txt\n",
    "\n",
    "0_戶.jpg\n",
    "1_經.jpg\n",
    "2_惠.jpg\n",
    "3_葳.jpg\n",
    "4_份.jpg\n",
    "5_拓.jpg\n",
    "6_萱.jpg\n",
    "7_義.jpg\n",
    "8_isnull.jpg\n",
    "9_范.jpg\n",
    "10_簡.jpg\n",
    ".\n",
    ".\n",
    ".\n",
    "...\n",
    "```"
   ]
  },
  {
   "cell_type": "code",
   "execution_count": 1,
   "id": "80cbcb64",
   "metadata": {},
   "outputs": [],
   "source": [
    "import os\n",
    "import glob"
   ]
  },
  {
   "cell_type": "code",
   "execution_count": 2,
   "id": "73a69c34",
   "metadata": {},
   "outputs": [],
   "source": [
    "root = './train'\n",
    "file_name = glob.glob(os.path.join(root, '*'))\n",
    "file_name_dict = {}\n",
    "for i in range(len(file_name)):\n",
    "    file_name_dict[file_name[i].split('\\\\')[-1].split('_')[0]] = file_name[i].split('\\\\')[-1]"
   ]
  },
  {
   "cell_type": "code",
   "execution_count": 3,
   "id": "bf116839",
   "metadata": {},
   "outputs": [],
   "source": [
    "with open('rename.txt', 'r', encoding='utf-8') as F:\n",
    "    rename = F.readlines()"
   ]
  },
  {
   "cell_type": "code",
   "execution_count": 10,
   "id": "15ac62e8",
   "metadata": {},
   "outputs": [],
   "source": [
    "# for i in range(2):\n",
    "#     print(rename[i],end='')\n",
    "#     print(file_name_dict[rename[i].split('_')[0]].split('\\\\')[-1])"
   ]
  },
  {
   "cell_type": "code",
   "execution_count": 6,
   "id": "ea482a0c",
   "metadata": {},
   "outputs": [
    {
     "name": "stdout",
     "output_type": "stream",
     "text": [
      "E:\\zane\\玉山\n"
     ]
    }
   ],
   "source": [
    "cwd = os.getcwd()\n",
    "print(cwd)"
   ]
  },
  {
   "cell_type": "code",
   "execution_count": 14,
   "id": "e147ea0a",
   "metadata": {},
   "outputs": [
    {
     "name": "stdout",
     "output_type": "stream",
     "text": [
      "start renaming\n",
      "finish renaming\n"
     ]
    }
   ],
   "source": [
    "print('start renaming')\n",
    "for i in range(len(rename)):\n",
    "    new_name = rename[i].strip()\n",
    "    original_f = os.path.join(cwd, 'train', file_name_dict[rename[i].split('_')[0]].split('\\\\')[-1])\n",
    "    new_f = os.path.join(cwd, 'train', new_name)\n",
    "    os.rename(original_f, new_f)\n",
    "print('finish renaming')"
   ]
  },
  {
   "cell_type": "code",
   "execution_count": null,
   "id": "7f388acb",
   "metadata": {},
   "outputs": [],
   "source": []
  }
 ],
 "metadata": {
  "kernelspec": {
   "display_name": "Python (clincalbert)",
   "language": "python",
   "name": "clincalbert"
  },
  "language_info": {
   "codemirror_mode": {
    "name": "ipython",
    "version": 3
   },
   "file_extension": ".py",
   "mimetype": "text/x-python",
   "name": "python",
   "nbconvert_exporter": "python",
   "pygments_lexer": "ipython3",
   "version": "3.6.7"
  }
 },
 "nbformat": 4,
 "nbformat_minor": 5
}
